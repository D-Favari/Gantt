{
 "cells": [
  {
   "cell_type": "code",
   "execution_count": 20,
   "metadata": {},
   "outputs": [
    {
     "data": {
      "text/html": [
       "<iframe id=\"igraph\" scrolling=\"no\" style=\"border:none;\" seamless=\"seamless\" src=\"https://plot.ly/~hdefavari/6.embed\" height=\"600px\" width=\"900px\"></iframe>"
      ],
      "text/plain": [
       "<plotly.tools.PlotlyDisplay object>"
      ]
     },
     "execution_count": 20,
     "metadata": {},
     "output_type": "execute_result"
    }
   ],
   "source": [
    "import plotly.plotly as py\n",
    "import plotly.figure_factory as ff\n",
    "\n",
    "df = [\n",
    "     dict(Task='Task #1', Start='2018-05-21 00:00:00', Finish='2018-06-21 00:00:00', Resource='Test_1'),\n",
    "     dict(Task='Task #2', Start='2018-06-21 00:00:00', Finish='2018-07-01 00:00:00', Resource='Test_2'),\n",
    "     dict(Task='Task #3', Start='2018-07-01 00:00:00', Finish='2018-11-01 00:00:00', Resource='Test_3'),\n",
    "     dict(Task='Task #4', Start='2018-11-01 00:00:00', Finish='2019-04-01 00:00:00', Resource='Test_4'),\n",
    "     dict(Task='Task #5', Start='2019-04-20 00:00:00', Finish='2019-05-20 00:00:00', Resource='Test_5')\n",
    "]\n",
    "\n",
    "colors = dict(Test_1 = 'rgb(46, 137, 205)',\n",
    "              Test_2 = 'rgb(114, 44, 121)',\n",
    "              Test_3 = 'rgb(198, 47, 105)',\n",
    "              Test_4 = 'rgb(58, 149, 136)',\n",
    "              Test_5 = 'rgb(107, 127, 135)')\n",
    "\n",
    "fig = ff.create_gantt(df, colors=colors, index_col='Resource', title='Title',show_colorbar=True,\n",
    "                      bar_width=0.7, showgrid_x=True, showgrid_y=True)\n",
    "py.iplot(fig, filename='gantt-hours-minutes', world_readable=True)\n"
   ]
  }
 ],
 "metadata": {
  "kernelspec": {
   "display_name": "Python 3",
   "language": "python",
   "name": "python3"
  },
  "language_info": {
   "codemirror_mode": {
    "name": "ipython",
    "version": 3
   },
   "file_extension": ".py",
   "mimetype": "text/x-python",
   "name": "python",
   "nbconvert_exporter": "python",
   "pygments_lexer": "ipython3",
   "version": "3.6.2"
  }
 },
 "nbformat": 4,
 "nbformat_minor": 2
}
